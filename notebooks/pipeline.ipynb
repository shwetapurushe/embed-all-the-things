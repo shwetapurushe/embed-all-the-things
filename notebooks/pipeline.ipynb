{
 "cells": [
  {
   "cell_type": "code",
   "execution_count": 1,
   "metadata": {},
   "outputs": [
    {
     "name": "stderr",
     "output_type": "stream",
     "text": [
      "/Users/shweta/.pyenv/versions/3.11.0/envs/embeddingallthethings/lib/python3.11/site-packages/tqdm/auto.py:21: TqdmWarning: IProgress not found. Please update jupyter and ipywidgets. See https://ipywidgets.readthedocs.io/en/stable/user_install.html\n",
      "  from .autonotebook import tqdm as notebook_tqdm\n"
     ]
    }
   ],
   "source": [
    "from langchain_community.document_loaders.directory import DirectoryLoader\n",
    "from langchain.document_loaders import UnstructuredPDFLoader\n",
    "from langchain.text_splitter import RecursiveCharacterTextSplitter, CharacterTextSplitter\n",
    "import re\n",
    "from sentence_transformers import SentenceTransformer\n",
    "import numpy as np\n",
    "from qdrant_client import models, QdrantClient\n",
    "# from langchain.document_loaders import PyPDFLoader"
   ]
  },
  {
   "cell_type": "code",
   "execution_count": 2,
   "metadata": {},
   "outputs": [],
   "source": [
    "# loader = UnstructuredPDFLoader('./BG/Chapter1_War_Within_Verses.pdf', strategy='fast') \n",
    "# docs = loader.load()\n",
    "# docs"
   ]
  },
  {
   "cell_type": "code",
   "execution_count": 5,
   "metadata": {},
   "outputs": [
    {
     "name": "stderr",
     "output_type": "stream",
     "text": [
      "100%|██████████| 3/3 [00:27<00:00,  9.09s/it]\n"
     ]
    },
    {
     "data": {
      "text/plain": [
       "[Document(page_content='Chapter One The War Within\\n\\nSri Krishna consoles and instructs Prince Arjuna as he is about to go into battle against family and friends to defend his older brother’s claim to the ancient throne of the Kurus. Thus the great scripture called Bhagavad Gita, the “Song of the Lord,” begins. Sri Krishna is Bhagavan, “the Lord,” the mysterious incarnation of Lord Vishnu, the aspect of God who fosters and preserves the universe against the forces constantly working to destroy and corrupt it. Krishna has appeared on earth as a royal prince of the house of the Yadavas; thus he combines earthly majesty with a hidden spiritual power. Most know him only as an unimportant prince, but the wise have seen him reveal his power to destroy evil and protect the good.\\n\\nThe battle of the Bhagavad Gita is not Krishna’s fight, however; it is Arjuna’s. Krishna is only Arjuna’s charioteer and advisor. He has promised Arjuna that he will be with him throughout the ordeal, but much as he passionately hopes for Arjuna’s victory, he has sworn to be a noncombatant in the struggle. A charioteer’s position is a lowly one compared to the status and glory of the warrior he drives, but Krishna assumes this modest role out of love for Arjuna. As charioteer, he is in a perfect position to give advice and encouragement to Arjuna without violating his promise not to join the fight himself.\\n\\nTo secure their claim to the throne, Arjuna and his brothers must fight not\\n\\nan alien army but their own cousins, who have held the kingdom for many years. Tragically, the forces against them include their own uncle, the blind king Dhritarashtra, and even the revered teachers and elders who guided Arjuna and his brothers when they were young. Arjuna, of course, wants to win the throne for his brother, who is the rightful heir to the Kuru dynasty and has endured many wrongs. But he is dismayed at the prospect of fighting his own people. Thus, on the morning the great battle is to begin, he turns to Krishna, his friend and spiritual advisor, and asks him the deeper questions about life that he has never asked before. The Bhagavad Gita is Krishna’s answer.\\n\\nOther warriors who appear elsewhere in the drama are mentioned in this\\n\\nfirst chapter of the Gita. To Indians these are familiar figures from the\\n\\nlegendary past, but to most Western readers they will be unknown and even unpronounceable names. Arjuna and his brothers are known as the Pandavas, “the sons of Pandu”: Yudhishthira, Bhima, Arjuna, Sahadeva, and Nakula. The other side is called the Kauravas, “the sons of Kuru.” This is somewhat misleading, for both sides of the royal family are Kurus by birth. But the Pandavas are now in the position of appearing to be the dissident faction, so they are called “sons of Pandu” to distinguish them from the larger family.\\n\\nPandu was once king of the kingdom of Hastinapura, but he retired into\\n\\nthe forest on spiritual retreat and died young. His elder brother, Dhritarashtra, was blind since birth, so he was never named ruler, but he did share power with his brother. When Pandu died his eldest son, Yudhishthira, should have succeeded him; but because Yudhishthira was only a boy, Dhritarashtra continued on after Pandu’s death.\\n\\nAs time passed, however, Dhritarashtra’s attachment to his own eldest\\n\\nson, Duryodhana, gradually overcame him. Instead of rising to royal impartiality and allowing Yudhishthira his fair claim, the old, blind king began to connive at his son’s demand to succeed to the throne. Actually, the line of succession had grown convoluted over several generations, and it was not unthinkable that Duryodhana should rule next. But Yudhishthira’s outstanding qualities and Duryodhana’s corruption gradually decided the issue, at least from the moral point of view. For Duryodhana, the conflict could be resolved only on the battlefield.\\n\\nOther warriors are mentioned briefly in chapter 1. Two particularly\\n\\nimportant figures in the Mahabharata story are Drona and Bhishma. Drona was born a brahmin, a member of the priestly caste, but in search of wealth he took up the way of the warrior and excelled in the knowledge of arms. He was the teacher, the guru, of all the royal princes in their youth, the sons of Pandu and the sons of Dhritarashtra alike. Thus it was he who taught both sides the skills of war – an irony which sharp-tongued Duryodhana points out in verse 3. Arjuna was Drona’s best pupil when it came to the bow, excelling even Drona’s own son, Ashvatthama.\\n\\nBhishma, “the grandsire” of both sides, is not actually the princes’ grandfather but a respected elder statesman. As Dhritarashtra’s advisor of many years’ standing, he considers it his duty to stand by his king and try to protect him from his weaknesses and wrong decisions.\\n\\nAnother figure introduced in chapter 1 is Sanjaya, who narrates the entire\\n\\nGita to the blind king Dhritarashtra. Sanjaya is not present on the battlefield, but the text tells us that the sage Vyasa, the composer of the Gita, has given him divine sight so that he can see and report everything.\\n\\nChapter 1 leaves us acutely aware that we are on a battlefield, waiting for\\n\\na catastrophic war to begin; but once Krishna begins his instruction, we leave the battlefield behind and enter the realms of philosophy and mystical vision. The first chapter is but a bridge to the real subjects of the Gita, and thus need not detain us too long in our study of the poem.\\n\\nYet the first chapter has caused a great deal of debate, largely because of what it has to say about the morality of war. Basically there have been two points of view, which are almost (but perhaps not completely) irreconcilable. First, there is the orthodox Hindu viewpoint that the Gita condones war for the warrior class: it is the dharma, the moral duty, of soldiers to fight in a good cause, though never for evil leaders. (It should be added that this is part of an elaborate and highly chivalrous code prescribing the just rules of war.) According to this orthodox view, the lesson of the Mahabharata (and therefore of the Gita) is that although war is evil, it is an evil that cannot be avoided – an evil both tragic and honorable for the warrior himself. War in a just cause, justly waged, is also in accord with the divine will. Because of this, in the Mahabharata, Yudhishthira and his noble brothers find their peace in the next world when they have finished their duty on earth.\\n\\nThe mystics’ point of view is more subtle. For them the battle is an allegory, a cosmic struggle between good and evil. Krishna has revealed himself on earth to reestablish righteousness, and he is asking Arjuna to engage in a spiritual struggle, not a worldly one. According to this interpretation, Arjuna is asked to fight not his kith and kin but his own lower self. Mahatma Gandhi, who based his daily life on the Gita from his twenties on, felt it would be impossible to live the kind of life taught in the Gita and still engage in violence. To argue that the Gita condones violence, he said, was to give importance only to its opening verses – its preface, so to speak – and ignore the scripture itself.\\n\\nFor some, it helps clarify this question to look upon the Gita as an\\n\\nUpanishad, a mystical statement from the Vedas, that was incorporated into the warrior epic of a later age. Chapter 1 of the Gita then forms a rather\\n\\nperilous bridge between the warrior’s world and the essential part of the Gita – Sri Krishna’s revelations of spiritual truth. –D.M.', metadata={'source': '../BG/Chapter1_War_Within_Commentary.pdf'}),\n",
       " Document(page_content='1: The War Within\\n\\nDHRITARASHTRA\\n\\n1 O Sanjaya, tell me what happened at Kurukshetra, the field of dharma, where my family and the Pandavas gathered to fight.\\n\\nSANJAYA\\n\\n2 Having surveyed the forces of the Pandavas arrayed for battle, prince Duryodhana approached his teacher, Drona, and spoke. 3 “O my teacher, look at this mighty army of the Pandavas, assembled by your own gifted disciple, Yudhishthira. 4 There are heroic warriors and great archers who are the equals of Bhima and Arjuna: Yuyudhana, Virata, the mighty Drupada, 5 Dhrishtaketu, Chekitana, the valiant king of Kashi, Purujit, Kuntibhoja,the great leader Shaibya, 6 the powerful Yudhamanyu, the valiant Uttamaujas, and the son of Subhadra, in addition to the sons of Draupadi. All these command mighty chariots.\\n\\n7 “O best of brahmins, listen to the names of those who are distinguished among our own forces: 8 Bhishma, Karna, and the victorious Kripa; Ashvatthama, Vikarna, and the son of Somadatta.\\n\\n9 “There are many others, too, heroes giving up their lives for my sake, all proficient in war and armed with a variety of weapons. 10 Our army is unlimited and commanded by Bhishma; theirs is small and commanded by Bhima. 11 Let everyone take his proper place and stand firm supporting Bhishma!”\\n\\n12 Then the powerful Bhishma, the grandsire, oldest of all the Kurus, in order to cheer Duryodhana, roared like a lion and blew his\\n\\nconch horn. 13 And after Bhishma, a tremendous noise arose of conchs and cow horns and pounding on drums.\\n\\n14 Then Sri Krishna and Arjuna, who were standing in a mighty chariot yoked with white horses, blew their divine conchs. 15 Sri Krishna blew the conch named Panchajanya, and Arjuna blew that called Devadatta. The mighty Bhima blew the huge conch Paundra. 16 Yudhishthira, the king, the son of Kunti, blew the conch Anantavijaya; Nakula and Sahadeva blew their conchs as well. 17 Then the king of Kashi, the leading bowman, the great warrior Shikhandi, Dhrishtadyumna, Virata, the invincible Satyaki, 18 Drupada, all the sons of Draupadi, and the strong-armed son of Subhadra joined in, 19 and the noise tore through the heart of Duryodhana’s army. Indeed, the sound was tumultuous, echoing throughout heaven and earth.\\n\\n20 Then, O Dhritarashtra, lord of the earth, having seen your son’s forces set in their places and the fighting about to begin, Arjuna spoke these words to Sri Krishna:\\n\\nARJUNA\\n\\n21 O Krishna, drive my chariot between the two armies. 22 I want to see those who desire to fight with me. With whom will this battle be fought? 23 I want to see those assembled to fight for Duryodhana, those who seek to please the evil-minded son of Dhritarashtra by engaging in war.\\n\\nSANJAYA\\n\\n24 Thus Arjuna spoke, and Sri Krishna, driving his splendid chariot between the two armies, 25 facing Bhishma and Drona and all the kings of the earth, said: “Arjuna, behold all the Kurus gathered together.”\\n\\n26 And Arjuna, standing between the two armies, saw fathers and grandfathers, teachers, uncles, and brothers, sons and grandsons, 27 in-laws and friends. Seeing his kinsmen established in opposition, 28 Arjuna was overcome by sorrow. Despairing, he spoke these words:\\n\\nARJUNA\\n\\nO Krishna, I see my own relations here anxious to fight, 29 and my limbs grow weak; my mouth is dry, my body shakes, and my hair is standing on end. 30 My skin burns, and the bow Gandiva has slipped from my hand. I am unable to stand; my mind seems to be whirling. 31 These signs bode evil for us. I do not see that any good can come from killing our relations in battle. 32 O Krishna, I have no desire for victory, or for a kingdom or pleasures. Of what use is a kingdom or pleasure or even life, 33 if those for whose sake we desire these things – 34 teachers, fathers, sons, grandfathers, uncles, in-laws, grandsons, and others with family ties – are engaging in this battle, renouncing their wealth and their lives? 35 Even if they were to kill me, I would not want to kill them, not even to become ruler of the three worlds. How much less for the earth alone?\\n\\n36 O Krishna, what satisfaction could we find in killing Dhritarashtra’s sons? We would become sinners by slaying these men, even though they are evil. 37 The sons of Dhritarashtra are related to us; therefore, we should not kill them. How can we gain happiness by killing members of our own family?\\n\\n38 Though they are overpowered by greed and see no evil in destroying families or injuring friends, we see these evils. 39 Why shouldn’t we turn away from this sin? 40 When a family declines, ancient traditions are destroyed. With them are lost the spiritual foundations for life, and the family loses its sense of unity. 41 Where there is no sense of unity, the women of the family become corrupt; and with the corruption of its women, society is plunged into chaos. 42 Social chaos is hell for the family and for those who have destroyed the family as well. It disrupts the process of spiritual evolution begun by our ancestors. 43 The timeless spiritual foundations of family and society would be destroyed by these terrible deeds, which violate the unity of life.\\n\\n44 It is said that those whose family dharma has been destroyed dwell in hell. 45 This is a great sin! We are prepared to kill our own relations out of greed for the pleasures of a kingdom. 46 Better for\\n\\nme if the sons of Dhritarashtra, weapons in hand, were to attack me in battle and kill me unarmed and unresisting.\\n\\nSANJAYA\\n\\n47 Overwhelmed by sorrow, Arjuna spoke these words. And casting away his bow and his arrows, he sat down in his chariot in the middle of the battlefield.', metadata={'source': '../BG/Chapter1_War_Within_Verses.pdf'}),\n",
       " Document(page_content='2: Self-Realization\\n\\nSANJAYA\\n\\n1 These are the words that Sri Krishna spoke to the despairing Arjuna, whose eyes were burning with tears of pity and confusion.\\n\\nKRISHNA\\n\\n2 This despair and weakness in a time of crisis are mean and unworthy of you, Arjuna. How have you fallen into a state so far from the path to liberation? 3 It does not become you to yield to this weakness. Arise with a brave heart and destroy the enemy.\\n\\nARJUNA\\n\\n4 How can I ever bring myself to fight against Bhishma and Drona, who are worthy of reverence? How can I, Krishna? 5 Surely it would be better to spend my life begging than to kill these great and worthy souls! If I killed them, every pleasure I found would be tainted. 6 I don’t even know which would be better, for us to conquer them or for them to conquer us. The sons of Dhritarashtra have confronted us; but why would we care to live if we killed them?\\n\\n7 My will is paralyzed, and I am utterly confused. Tell me which is the better path for me. Let me be your disciple. I have fallen at your feet; give me instruction. 8 What can overcome a sorrow that saps all my vitality? Even power over men and gods or the wealth of an empire seem empty.\\n\\nSANJAYA\\n\\n9 This is how Arjuna, the great warrior, spoke to Sri Krishna. With the words, “O Krishna, I will not fight,” he fell silent. 10 As they stood between the two armies, Sri Krishna smiled and replied to Arjuna, who had sunk into despair.\\n\\nKRISHNA\\n\\n11 You speak sincerely, but your sorrow has no cause. The wise grieve neither for the living nor for the dead. 12 There has never been a time when you and I and the kings gathered here have not existed, nor will there be a time when we will cease to exist. 13 As the same person inhabits the body through childhood, youth, and old age, so too at the time of death he attains another body. The wise are not deluded by these changes.\\n\\n14 When the senses contact sense objects, a person experiences cold or heat, pleasure or pain. These experiences are fleeting; they come and go. Bear them patiently, Arjuna. 15 Those who are unaffected by these changes, who are the same in pleasure and pain, are truly wise and fit for immortality. Assert your strength and realize this!\\n\\n16 The impermanent has no reality; reality lies in the eternal. Those who have seen the boundary between these two have attained the end of all knowledge. 17 Realize that which pervades the universe and is indestructible; no power can affect this unchanging, imperishable reality. 18 The body is mortal, but that which dwells in the body is immortal and immeasurable. Therefore, Arjuna, fight in this battle.\\n\\n19 One believes he is the slayer, another believes he is the slain. Both are ignorant; there is neither slayer nor slain. 20 You were never born; you will never die. You have never changed; you can never change. Unborn, eternal, immutable, immemorial, you do not die when the body dies. 21 Realizing that which is indestructible, eternal, unborn, and unchanging, how can you slay or cause another to slay?\\n\\n22 As one abandons worn-out clothes and acquires new ones, so when the body is worn out a new one is acquired by the Self, who lives within.\\n\\n23 The Self cannot be pierced by weapons or burned by fire; water cannot wet it, nor can the wind dry it. 24 The Self cannot be pierced or burned, made wet or dry. It is everlasting and infinite, standing on the motionless foundations of eternity. 25 The Self is unmanifested, beyond all thought, beyond all change. Knowing this, you should not grieve.\\n\\n26 O mighty Arjuna, even if you believe the Self to be subject to birth and death, you should not grieve. 27 Death is inevitable for the living; birth is inevitable for the dead. Since these are unavoidable, you should not sorrow. 28 Every creature is unmanifested at first and then attains manifestation. When its end has come, it once again becomes unmanifested. What is there to lament in this?\\n\\n29 The glory of the Self is beheld by a few, and a few describe it; a few listen, but many without understanding. 30 The Self of all beings, living within the body, is eternal and cannot be harmed. Therefore, do not grieve.\\n\\n31 Considering your dharma, you should not vacillate. For a warrior, nothing is higher than a war against evil. 32 The warrior confronted with such a war should be pleased, Arjuna, for it comes as an open gate to heaven. 33 But if you do not participate in this battle against evil, you will incur sin, violating your dharma and your honor.\\n\\n34 The story of your dishonor will be repeated endlessly: and for a man of honor, dishonor is worse than death. 35 These brave warriors will think you have withdrawn from battle out of fear, and those who formerly esteemed you will treat you with disrespect. 36 Your enemies will ridicule your strength and say things that should not be said. What could be more painful than this?\\n\\n37 Death means the attainment of heaven; victory means the enjoyment of the earth. Therefore rise up, Arjuna, resolved to fight!\\n\\n38 Having made yourself alike in pain and pleasure, profit and loss, victory and defeat, engage in this great battle and you will be freed from sin.\\n\\n39 You have heard the intellectual explanation of Sankhya, Arjuna; now listen to the principles of yoga. By practicing these you can break through the bonds of karma. 40 On this path effort never goes to waste, and there is no failure. Even a little effort toward spiritual awareness will protect you from the greatest fear.\\n\\n41 Those who follow this path, resolving deep within themselves to seek me alone, attain singleness of purpose. For those who lack resolution, the decisions of life are many-branched and endless.\\n\\n42 There are ignorant people who speak flowery words and take delight in the letter of the law, saying that there is nothing else. 43 Their hearts are full of selfish desires, Arjuna. Their idea of heaven is their own enjoyment, and the aim of all their activities is pleasure and power. The fruit of their actions is continual rebirth. 44 Those whose minds are swept away by the pursuit of pleasure and power are incapable of following the supreme goal and will not attain samadhi.\\n\\n45 The scriptures describe the three gunas. But you should be free from the action of the gunas, established in eternal truth, self- controlled, without any sense of duality or the desire to acquire and hoard.\\n\\n46 Just as a reservoir is of little use when the whole countryside is flooded, scriptures are of little use to the illumined man or woman, who sees the Lord everywhere.\\n\\n47 You have the right to work, but never to the fruit of work. You should never engage in action for the sake of reward, nor should you long for inaction. 48 Perform work in this world, Arjuna, as a man established within himself – without selfish attachments, and alike in success and defeat. For yoga is perfect evenness of mind.\\n\\n49 Seek refuge in the attitude of detachment and you will amass the wealth of spiritual awareness. Those who are motivated only by desire for the fruits of action are miserable, for they are constantly anxious about the results of what they do. 50 When consciousness is unified, however, all vain anxiety is left behind. There is no cause for worry, whether things go well or ill. Therefore, devote yourself to the disciplines of yoga, for yoga is skill in action.\\n\\n51 The wise unify their consciousness and abandon attachment to the fruits of action, which binds a person to continual rebirth. Thus they attain a state beyond all evil.\\n\\n52 When your mind has overcome the confusion of duality, you will attain the state of holy indifference to things you hear and things you have heard. 53 When you are unmoved by the confusion of ideas and your mind is completely united in deep samadhi, you will attain the state of perfect yoga.\\n\\nARJUNA\\n\\n54 Tell me of those who live established in wisdom, ever aware of the Self, O Krishna. How do they talk? How sit? How move about?\\n\\nKRISHNA\\n\\n55 They live in wisdom who see themselves in all and all in them, who have renounced every selfish desire and sense craving tormenting the heart.\\n\\n56 Neither agitated by grief nor hankering after pleasure, they live free from lust and fear and anger. Established in meditation, they are truly wise. 57 Fettered no more by selfish attachments, they are neither elated by good fortune nor depressed by bad. Such are the seers.\\n\\n58 Even as a tortoise draws in its limbs, the wise can draw in their senses at will. 59 Aspirants abstain from sense pleasures, but they still crave for them. These cravings all disappear when they see the highest goal. 60 Even of those who tread the path, the stormy senses\\n\\ncan sweep off the mind. 61 They live in wisdom who subdue their senses and keep their minds ever absorbed in me.\\n\\n62 When you keep thinking about sense objects, attachment comes. Attachment breeds desire, the lust of possession that burns to anger. 63 Anger clouds the judgment; you can no longer learn from past mistakes. Lost is the power to choose between what is wise and what is unwise, and your life is utter waste. 64 But when you move amidst the world of sense, free from attachment and aversion alike, 65 there comes the peace in which all sorrows end, and you live in the wisdom of the Self.\\n\\n66 The disunited mind is far from wise; how can it meditate? How be at peace? When you know no peace, how can you know joy? 67 When you let your mind follow the call of the senses, they carry away your better judgment as storms drive a boat off its charted course on the sea.\\n\\n68 Use all your power to free the senses from attachment and aversion alike, and live in the full wisdom of the Self. 69 Such a sage awakes to light in the night of all creatures. That which the world calls day is the night of ignorance to the wise.\\n\\n70 As rivers flow into the ocean but cannot make the vast ocean overflow, so flow the streams of the sense-world into the sea of peace that is the sage. But this is not so with the desirer of desires.\\n\\n71 They are forever free who renounce all selfish desires and break away from the ego-cage of “I,” “me,” and “mine” to be united with the Lord. 72 This is the supreme state. Attain to this, and pass from death to immortality.', metadata={'source': '../BG/Chapter2_Self_Realization_Verses.pdf'})]"
      ]
     },
     "execution_count": 5,
     "metadata": {},
     "output_type": "execute_result"
    }
   ],
   "source": [
    "loader = DirectoryLoader(\"../BG/\", glob=\"**/*.pdf\", show_progress=True, use_multithreading=True)\n",
    "docs= loader.load()\n",
    "docs"
   ]
  },
  {
   "cell_type": "code",
   "execution_count": 6,
   "metadata": {},
   "outputs": [],
   "source": [
    "verse_dos = [doc for doc in docs if 'Verses' in doc.metadata['source']] # filtering out the verses vs commentary"
   ]
  },
  {
   "cell_type": "markdown",
   "metadata": {},
   "source": [
    "#### Process documents and add metadata"
   ]
  },
  {
   "cell_type": "code",
   "execution_count": 7,
   "metadata": {},
   "outputs": [],
   "source": [
    "# convert list of strings to list of ints\n",
    "def get_verses_from_text(doc):\n",
    "    v1 = np.unique(np.array(re.findall(r\"\\d{1,2}\", doc.page_content), dtype='int')) \n",
    "    d = np.abs(np.diff(v1))\n",
    "    if len(v1) > 1 and any(d > 5): # if more than one verse they should be close to one another\n",
    "        v1 = np.delete(v1, 0) #TODO find a more generic way to do this, right now works for 2 chapters\n",
    "    \n",
    "    v = np.array(v1, dtype='str')\n",
    "    return list(v)"
   ]
  },
  {
   "cell_type": "code",
   "execution_count": null,
   "metadata": {},
   "outputs": [
    {
     "data": {
      "text/plain": [
       "[Document(page_content='1: The War Within\\n\\nDHRITARASHTRA\\n\\n1 O Sanjaya, tell me what happened at Kurukshetra, the field of dharma, where my family and the Pandavas gathered to fight.\\n\\nSANJAYA\\n\\n2 Having surveyed the forces of the Pandavas arrayed for battle, prince Duryodhana approached his teacher, Drona, and spoke. 3 “O my teacher, look at this mighty army of the Pandavas, assembled by your own gifted disciple, Yudhishthira. 4 There are heroic warriors and great archers who are the equals of Bhima and Arjuna: Yuyudhana, Virata, the mighty Drupada, 5 Dhrishtaketu, Chekitana, the valiant king of Kashi, Purujit, Kuntibhoja,the great leader Shaibya, 6 the powerful Yudhamanyu, the valiant Uttamaujas, and the son of Subhadra, in addition to the sons of Draupadi. All these command mighty chariots.\\n\\n7 “O best of brahmins, listen to the names of those who are distinguished among our own forces: 8 Bhishma, Karna, and the victorious Kripa; Ashvatthama, Vikarna, and the son of Somadatta.\\n\\n9 “There are many others, too, heroes giving up their lives for my sake, all proficient in war and armed with a variety of weapons. 10 Our army is unlimited and commanded by Bhishma; theirs is small and commanded by Bhima. 11 Let everyone take his proper place and stand firm supporting Bhishma!”\\n\\n12 Then the powerful Bhishma, the grandsire, oldest of all the Kurus, in order to cheer Duryodhana, roared like a lion and blew his\\n\\nconch horn. 13 And after Bhishma, a tremendous noise arose of conchs and cow horns and pounding on drums.\\n\\n14 Then Sri Krishna and Arjuna, who were standing in a mighty chariot yoked with white horses, blew their divine conchs. 15 Sri Krishna blew the conch named Panchajanya, and Arjuna blew that called Devadatta. The mighty Bhima blew the huge conch Paundra. 16 Yudhishthira, the king, the son of Kunti, blew the conch Anantavijaya; Nakula and Sahadeva blew their conchs as well. 17 Then the king of Kashi, the leading bowman, the great warrior Shikhandi, Dhrishtadyumna, Virata, the invincible Satyaki, 18 Drupada, all the sons of Draupadi, and the strong-armed son of Subhadra joined in, 19 and the noise tore through the heart of Duryodhana’s army. Indeed, the sound was tumultuous, echoing throughout heaven and earth.\\n\\n20 Then, O Dhritarashtra, lord of the earth, having seen your son’s forces set in their places and the fighting about to begin, Arjuna spoke these words to Sri Krishna:\\n\\nARJUNA\\n\\n21 O Krishna, drive my chariot between the two armies. 22 I want to see those who desire to fight with me. With whom will this battle be fought? 23 I want to see those assembled to fight for Duryodhana, those who seek to please the evil-minded son of Dhritarashtra by engaging in war.\\n\\nSANJAYA\\n\\n24 Thus Arjuna spoke, and Sri Krishna, driving his splendid chariot between the two armies, 25 facing Bhishma and Drona and all the kings of the earth, said: “Arjuna, behold all the Kurus gathered together.”\\n\\n26 And Arjuna, standing between the two armies, saw fathers and grandfathers, teachers, uncles, and brothers, sons and grandsons, 27 in-laws and friends. Seeing his kinsmen established in opposition, 28 Arjuna was overcome by sorrow. Despairing, he spoke these words:\\n\\nARJUNA\\n\\nO Krishna, I see my own relations here anxious to fight, 29 and my limbs grow weak; my mouth is dry, my body shakes, and my hair is standing on end. 30 My skin burns, and the bow Gandiva has slipped from my hand. I am unable to stand; my mind seems to be whirling. 31 These signs bode evil for us. I do not see that any good can come from killing our relations in battle. 32 O Krishna, I have no desire for victory, or for a kingdom or pleasures. Of what use is a kingdom or pleasure or even life, 33 if those for whose sake we desire these things – 34 teachers, fathers, sons, grandfathers, uncles, in-laws, grandsons, and others with family ties – are engaging in this battle, renouncing their wealth and their lives? 35 Even if they were to kill me, I would not want to kill them, not even to become ruler of the three worlds. How much less for the earth alone?\\n\\n36 O Krishna, what satisfaction could we find in killing Dhritarashtra’s sons? We would become sinners by slaying these men, even though they are evil. 37 The sons of Dhritarashtra are related to us; therefore, we should not kill them. How can we gain happiness by killing members of our own family?\\n\\n38 Though they are overpowered by greed and see no evil in destroying families or injuring friends, we see these evils. 39 Why shouldn’t we turn away from this sin? 40 When a family declines, ancient traditions are destroyed. With them are lost the spiritual foundations for life, and the family loses its sense of unity. 41 Where there is no sense of unity, the women of the family become corrupt; and with the corruption of its women, society is plunged into chaos. 42 Social chaos is hell for the family and for those who have destroyed the family as well. It disrupts the process of spiritual evolution begun by our ancestors. 43 The timeless spiritual foundations of family and society would be destroyed by these terrible deeds, which violate the unity of life.\\n\\n44 It is said that those whose family dharma has been destroyed dwell in hell. 45 This is a great sin! We are prepared to kill our own relations out of greed for the pleasures of a kingdom. 46 Better for\\n\\nme if the sons of Dhritarashtra, weapons in hand, were to attack me in battle and kill me unarmed and unresisting.\\n\\nSANJAYA\\n\\n47 Overwhelmed by sorrow, Arjuna spoke these words. And casting away his bow and his arrows, he sat down in his chariot in the middle of the battlefield.', metadata={'source': 'BG/Chapter1_War_Within_Verses.pdf'}),\n",
       " Document(page_content='2: Self-Realization\\n\\nSANJAYA\\n\\n1 These are the words that Sri Krishna spoke to the despairing Arjuna, whose eyes were burning with tears of pity and confusion.\\n\\nKRISHNA\\n\\n2 This despair and weakness in a time of crisis are mean and unworthy of you, Arjuna. How have you fallen into a state so far from the path to liberation? 3 It does not become you to yield to this weakness. Arise with a brave heart and destroy the enemy.\\n\\nARJUNA\\n\\n4 How can I ever bring myself to fight against Bhishma and Drona, who are worthy of reverence? How can I, Krishna? 5 Surely it would be better to spend my life begging than to kill these great and worthy souls! If I killed them, every pleasure I found would be tainted. 6 I don’t even know which would be better, for us to conquer them or for them to conquer us. The sons of Dhritarashtra have confronted us; but why would we care to live if we killed them?\\n\\n7 My will is paralyzed, and I am utterly confused. Tell me which is the better path for me. Let me be your disciple. I have fallen at your feet; give me instruction. 8 What can overcome a sorrow that saps all my vitality? Even power over men and gods or the wealth of an empire seem empty.\\n\\nSANJAYA\\n\\n9 This is how Arjuna, the great warrior, spoke to Sri Krishna. With the words, “O Krishna, I will not fight,” he fell silent. 10 As they stood between the two armies, Sri Krishna smiled and replied to Arjuna, who had sunk into despair.\\n\\nKRISHNA\\n\\n11 You speak sincerely, but your sorrow has no cause. The wise grieve neither for the living nor for the dead. 12 There has never been a time when you and I and the kings gathered here have not existed, nor will there be a time when we will cease to exist. 13 As the same person inhabits the body through childhood, youth, and old age, so too at the time of death he attains another body. The wise are not deluded by these changes.\\n\\n14 When the senses contact sense objects, a person experiences cold or heat, pleasure or pain. These experiences are fleeting; they come and go. Bear them patiently, Arjuna. 15 Those who are unaffected by these changes, who are the same in pleasure and pain, are truly wise and fit for immortality. Assert your strength and realize this!\\n\\n16 The impermanent has no reality; reality lies in the eternal. Those who have seen the boundary between these two have attained the end of all knowledge. 17 Realize that which pervades the universe and is indestructible; no power can affect this unchanging, imperishable reality. 18 The body is mortal, but that which dwells in the body is immortal and immeasurable. Therefore, Arjuna, fight in this battle.\\n\\n19 One believes he is the slayer, another believes he is the slain. Both are ignorant; there is neither slayer nor slain. 20 You were never born; you will never die. You have never changed; you can never change. Unborn, eternal, immutable, immemorial, you do not die when the body dies. 21 Realizing that which is indestructible, eternal, unborn, and unchanging, how can you slay or cause another to slay?\\n\\n22 As one abandons worn-out clothes and acquires new ones, so when the body is worn out a new one is acquired by the Self, who lives within.\\n\\n23 The Self cannot be pierced by weapons or burned by fire; water cannot wet it, nor can the wind dry it. 24 The Self cannot be pierced or burned, made wet or dry. It is everlasting and infinite, standing on the motionless foundations of eternity. 25 The Self is unmanifested, beyond all thought, beyond all change. Knowing this, you should not grieve.\\n\\n26 O mighty Arjuna, even if you believe the Self to be subject to birth and death, you should not grieve. 27 Death is inevitable for the living; birth is inevitable for the dead. Since these are unavoidable, you should not sorrow. 28 Every creature is unmanifested at first and then attains manifestation. When its end has come, it once again becomes unmanifested. What is there to lament in this?\\n\\n29 The glory of the Self is beheld by a few, and a few describe it; a few listen, but many without understanding. 30 The Self of all beings, living within the body, is eternal and cannot be harmed. Therefore, do not grieve.\\n\\n31 Considering your dharma, you should not vacillate. For a warrior, nothing is higher than a war against evil. 32 The warrior confronted with such a war should be pleased, Arjuna, for it comes as an open gate to heaven. 33 But if you do not participate in this battle against evil, you will incur sin, violating your dharma and your honor.\\n\\n34 The story of your dishonor will be repeated endlessly: and for a man of honor, dishonor is worse than death. 35 These brave warriors will think you have withdrawn from battle out of fear, and those who formerly esteemed you will treat you with disrespect. 36 Your enemies will ridicule your strength and say things that should not be said. What could be more painful than this?\\n\\n37 Death means the attainment of heaven; victory means the enjoyment of the earth. Therefore rise up, Arjuna, resolved to fight!\\n\\n38 Having made yourself alike in pain and pleasure, profit and loss, victory and defeat, engage in this great battle and you will be freed from sin.\\n\\n39 You have heard the intellectual explanation of Sankhya, Arjuna; now listen to the principles of yoga. By practicing these you can break through the bonds of karma. 40 On this path effort never goes to waste, and there is no failure. Even a little effort toward spiritual awareness will protect you from the greatest fear.\\n\\n41 Those who follow this path, resolving deep within themselves to seek me alone, attain singleness of purpose. For those who lack resolution, the decisions of life are many-branched and endless.\\n\\n42 There are ignorant people who speak flowery words and take delight in the letter of the law, saying that there is nothing else. 43 Their hearts are full of selfish desires, Arjuna. Their idea of heaven is their own enjoyment, and the aim of all their activities is pleasure and power. The fruit of their actions is continual rebirth. 44 Those whose minds are swept away by the pursuit of pleasure and power are incapable of following the supreme goal and will not attain samadhi.\\n\\n45 The scriptures describe the three gunas. But you should be free from the action of the gunas, established in eternal truth, self- controlled, without any sense of duality or the desire to acquire and hoard.\\n\\n46 Just as a reservoir is of little use when the whole countryside is flooded, scriptures are of little use to the illumined man or woman, who sees the Lord everywhere.\\n\\n47 You have the right to work, but never to the fruit of work. You should never engage in action for the sake of reward, nor should you long for inaction. 48 Perform work in this world, Arjuna, as a man established within himself – without selfish attachments, and alike in success and defeat. For yoga is perfect evenness of mind.\\n\\n49 Seek refuge in the attitude of detachment and you will amass the wealth of spiritual awareness. Those who are motivated only by desire for the fruits of action are miserable, for they are constantly anxious about the results of what they do. 50 When consciousness is unified, however, all vain anxiety is left behind. There is no cause for worry, whether things go well or ill. Therefore, devote yourself to the disciplines of yoga, for yoga is skill in action.\\n\\n51 The wise unify their consciousness and abandon attachment to the fruits of action, which binds a person to continual rebirth. Thus they attain a state beyond all evil.\\n\\n52 When your mind has overcome the confusion of duality, you will attain the state of holy indifference to things you hear and things you have heard. 53 When you are unmoved by the confusion of ideas and your mind is completely united in deep samadhi, you will attain the state of perfect yoga.\\n\\nARJUNA\\n\\n54 Tell me of those who live established in wisdom, ever aware of the Self, O Krishna. How do they talk? How sit? How move about?\\n\\nKRISHNA\\n\\n55 They live in wisdom who see themselves in all and all in them, who have renounced every selfish desire and sense craving tormenting the heart.\\n\\n56 Neither agitated by grief nor hankering after pleasure, they live free from lust and fear and anger. Established in meditation, they are truly wise. 57 Fettered no more by selfish attachments, they are neither elated by good fortune nor depressed by bad. Such are the seers.\\n\\n58 Even as a tortoise draws in its limbs, the wise can draw in their senses at will. 59 Aspirants abstain from sense pleasures, but they still crave for them. These cravings all disappear when they see the highest goal. 60 Even of those who tread the path, the stormy senses\\n\\ncan sweep off the mind. 61 They live in wisdom who subdue their senses and keep their minds ever absorbed in me.\\n\\n62 When you keep thinking about sense objects, attachment comes. Attachment breeds desire, the lust of possession that burns to anger. 63 Anger clouds the judgment; you can no longer learn from past mistakes. Lost is the power to choose between what is wise and what is unwise, and your life is utter waste. 64 But when you move amidst the world of sense, free from attachment and aversion alike, 65 there comes the peace in which all sorrows end, and you live in the wisdom of the Self.\\n\\n66 The disunited mind is far from wise; how can it meditate? How be at peace? When you know no peace, how can you know joy? 67 When you let your mind follow the call of the senses, they carry away your better judgment as storms drive a boat off its charted course on the sea.\\n\\n68 Use all your power to free the senses from attachment and aversion alike, and live in the full wisdom of the Self. 69 Such a sage awakes to light in the night of all creatures. That which the world calls day is the night of ignorance to the wise.\\n\\n70 As rivers flow into the ocean but cannot make the vast ocean overflow, so flow the streams of the sense-world into the sea of peace that is the sage. But this is not so with the desirer of desires.\\n\\n71 They are forever free who renounce all selfish desires and break away from the ego-cage of “I,” “me,” and “mine” to be united with the Lord. 72 This is the supreme state. Attain to this, and pass from death to immortality.', metadata={'source': 'BG/Chapter2_Self_Realization_Verses.pdf'})]"
      ]
     },
     "execution_count": 173,
     "metadata": {},
     "output_type": "execute_result"
    }
   ],
   "source": [
    "verse_dos"
   ]
  },
  {
   "cell_type": "code",
   "execution_count": 8,
   "metadata": {},
   "outputs": [],
   "source": [
    "em_model = SentenceTransformer('all-MiniLM-L6-v2')\n",
    "qdrant_client = QdrantClient(\"http://localhost:6333\")"
   ]
  },
  {
   "cell_type": "code",
   "execution_count": 9,
   "metadata": {},
   "outputs": [
    {
     "name": "stdout",
     "output_type": "stream",
     "text": [
      "for Chapter 0 40 verses added\n",
      "for Chapter 1 71 verses added\n"
     ]
    }
   ],
   "source": [
    "text_splitter = RecursiveCharacterTextSplitter(\n",
    "    # Set a really small chunk size, just to show.\n",
    "    chunk_size=200,\n",
    "    chunk_overlap=40,\n",
    "    length_function=len,\n",
    "    separators = [\"\\d\"],\n",
    "    is_separator_regex=True,\n",
    "    keep_separator = True\n",
    ")\n",
    "\n",
    "all_chapters_docs = [] # list of tagged docs across all chapters\n",
    "\n",
    "# texts = text_splitter.create_documents([docs[1].page_content])\n",
    "for i in range (0, len(verse_dos)): # * * * * \n",
    "    chapters_docs = text_splitter.create_documents([verse_dos[i].page_content])\n",
    "    # loop within those to add metadata\n",
    "    for j in range(0, len(chapters_docs)):\n",
    "        # TODO get author\n",
    "        verses = get_verses_from_text(chapters_docs[j])\n",
    "        chapters_docs[j].metadata = {'verses': verses, 'chapter': i}\n",
    "        all_chapters_docs.append(chapters_docs[j])\n",
    "    print(f\"for Chapter {i} {len(chapters_docs)} verses added\")"
   ]
  },
  {
   "cell_type": "code",
   "execution_count": 10,
   "metadata": {},
   "outputs": [
    {
     "data": {
      "text/plain": [
       "111"
      ]
     },
     "execution_count": 10,
     "metadata": {},
     "output_type": "execute_result"
    }
   ],
   "source": [
    "len(all_chapters_docs)"
   ]
  },
  {
   "cell_type": "code",
   "execution_count": 11,
   "metadata": {},
   "outputs": [
    {
     "data": {
      "text/plain": [
       "111"
      ]
     },
     "execution_count": 11,
     "metadata": {},
     "output_type": "execute_result"
    }
   ],
   "source": [
    "finalDocuments = []\n",
    "for i in range(0, len(all_chapters_docs)):\n",
    "    finalDocuments.append({\n",
    "        \"original_text\": all_chapters_docs[i].page_content,\n",
    "        \"cleaned_text\": re.sub(r'\\d|(\\n\\n)', '', all_chapters_docs[i].page_content),\n",
    "        \"verses\" : all_chapters_docs[i].metadata[\"verses\"],\n",
    "        \"chapter\" : all_chapters_docs[i].metadata[\"chapter\"]\n",
    "    })\n",
    "len(finalDocuments)"
   ]
  },
  {
   "cell_type": "markdown",
   "metadata": {},
   "source": [
    "#### Load and save embeddings to Qdrant"
   ]
  },
  {
   "cell_type": "code",
   "execution_count": null,
   "metadata": {},
   "outputs": [
    {
     "data": {
      "text/plain": [
       "True"
      ]
     },
     "execution_count": 274,
     "metadata": {},
     "output_type": "execute_result"
    }
   ],
   "source": [
    "qdrant_client.recreate_collection(\n",
    "    collection_name=\"BG1and2\",\n",
    "    vectors_config=models.VectorParams(\n",
    "        size=em_model.get_sentence_embedding_dimension(),  # Vector size is defined by used model\n",
    "        distance=models.Distance.COSINE,\n",
    "    ),\n",
    ")"
   ]
  },
  {
   "cell_type": "code",
   "execution_count": null,
   "metadata": {},
   "outputs": [],
   "source": [
    "qdrant_client.upload_records(\n",
    "    collection_name=\"BG1and2\",\n",
    "    records=[\n",
    "        models.Record(\n",
    "            id=idx, vector=em_model.encode(doc[\"cleaned_text\"]).tolist(), payload=doc\n",
    "        )\n",
    "        for idx, doc in enumerate(finalDocuments)\n",
    "    ],\n",
    ")"
   ]
  },
  {
   "cell_type": "code",
   "execution_count": 22,
   "metadata": {},
   "outputs": [],
   "source": [
    "# query = \"war with family members\"\n",
    "# query= \"immortality\"\n",
    "# query = \"what is said about reincarnation\"\n",
    "query = \"What is the self?\""
   ]
  },
  {
   "cell_type": "code",
   "execution_count": 23,
   "metadata": {},
   "outputs": [
    {
     "name": "stdout",
     "output_type": "stream",
     "text": [
      " The glory of the Self is beheld by a few, and a few describe it; a few listen, but many without understanding.  >> Chapter: 1 Verse : ['29'], Score : 0.62122476\n",
      " The Self cannot be pierced or burned, made wet or dry. It is everlasting and infinite, standing on the motionless foundations of eternity.  >> Chapter: 1 Verse : ['24'], Score : 0.52031195\n",
      " As one abandons worn-out clothes and acquires new ones, so when the body is worn out a new one is acquired by the Self, who lives within. >> Chapter: 1 Verse : ['22'], Score : 0.49016458\n",
      " The Self is unmanifested, beyond all thought, beyond all change. Knowing this, you should not grieve. >> Chapter: 1 Verse : ['25'], Score : 0.4427987\n",
      " Those who follow this path, resolving deep within themselves to seek me alone, attain singleness of purpose. For those who lack resolution, the decisions of life are many-branched and endless. >> Chapter: 1 Verse : ['41'], Score : 0.42654747\n",
      " The Self cannot be pierced by weapons or burned by fire; water cannot wet it, nor can the wind dry it.  >> Chapter: 1 Verse : ['23'], Score : 0.41578197\n",
      " They live in wisdom who see themselves in all and all in them, who have renounced every selfish desire and sense craving tormenting the heart. >> Chapter: 1 Verse : ['55'], Score : 0.39406714\n",
      " The Self of all beings, living within the body, is eternal and cannot be harmed. Therefore, do not grieve. >> Chapter: 1 Verse : ['30'], Score : 0.38961044\n",
      " But when you move amidst the world of sense, free from attachment and aversion alike,  there comes the peace in which all sorrows end, and you live in the wisdom of the Self. >> Chapter: 1 Verse : ['64', '65'], Score : 0.38709635\n",
      " They are forever free who renounce all selfish desires and break away from the ego-cage of “I,” “me,” and “mine” to be united with the Lord.  >> Chapter: 1 Verse : ['71'], Score : 0.38028133\n"
     ]
    }
   ],
   "source": [
    "hits = qdrant_client.search(\n",
    "    collection_name=\"BG1and2\",\n",
    "    # query_filter=models.Filter(\n",
    "    #     must=[\n",
    "    #         models.FieldCondition(\n",
    "    #             key=\"chapter\",\n",
    "    #             match=models.MatchValue(\n",
    "    #                 value=1,\n",
    "    #             ),\n",
    "    #         )\n",
    "    #     ]\n",
    "    # ),\n",
    "    query_vector=em_model.encode(query).tolist(),\n",
    "    limit=10,\n",
    ")\n",
    "for hit in hits:\n",
    "    # print(hit.payload)\n",
    "    print(f'{hit.payload[\"cleaned_text\"]} >> Chapter: {hit.payload[\"chapter\"]} Verse : {hit.payload[\"verses\"]}, Score : {hit.score}')"
   ]
  },
  {
   "cell_type": "markdown",
   "metadata": {},
   "source": []
  }
 ],
 "metadata": {
  "kernelspec": {
   "display_name": "embeddingallthethings",
   "language": "python",
   "name": "python3"
  },
  "language_info": {
   "codemirror_mode": {
    "name": "ipython",
    "version": 3
   },
   "file_extension": ".py",
   "mimetype": "text/x-python",
   "name": "python",
   "nbconvert_exporter": "python",
   "pygments_lexer": "ipython3",
   "version": "3.11.0"
  }
 },
 "nbformat": 4,
 "nbformat_minor": 2
}
